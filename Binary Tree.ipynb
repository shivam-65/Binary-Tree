{
 "cells": [
  {
   "cell_type": "code",
   "execution_count": 20,
   "metadata": {},
   "outputs": [],
   "source": [
    "class node:\n",
    "    def __init__(self,data):\n",
    "        self.data=data\n",
    "        self.left=None\n",
    "        self.right=None\n",
    "        \n",
    "    def preorder(self):\n",
    "        print(self.data, end=\" \")\n",
    "        if self.left:\n",
    "            self.left.preorder()\n",
    "        if self.right:\n",
    "            self.right.preorder()\n",
    "            \n",
    "    def inorder(self):\n",
    "        if self.left:\n",
    "            self.left.inorder()\n",
    "        print(self.data, end=\" \")\n",
    "        if self.right:\n",
    "            self.right.inorder()\n",
    "            \n",
    "    def postorder(self):\n",
    "        if self.left:\n",
    "            self.left.postorder()\n",
    "        if self.right:\n",
    "            self.right.postorder()\n",
    "        print(self.data, end=\" \")"
   ]
  },
  {
   "cell_type": "code",
   "execution_count": 21,
   "metadata": {},
   "outputs": [],
   "source": [
    "n1=node(10)\n",
    "n1.left=node(20)\n",
    "n1.right=node(30)\n",
    "n1.left.left=node(40)\n",
    "n1.left.right=node(50)\n",
    "n1.right.left=node(60)\n",
    "n1.right.right=node(70)"
   ]
  },
  {
   "cell_type": "code",
   "execution_count": 22,
   "metadata": {},
   "outputs": [
    {
     "name": "stdout",
     "output_type": "stream",
     "text": [
      "preorder traversal  :  10 20 40 50 30 60 70 \n",
      "inorder traversal   :  40 20 50 10 60 30 70 \n",
      "postorder traversal :  40 50 20 60 70 30 10 "
     ]
    }
   ],
   "source": [
    "print(\"preorder traversal  : \", end=\" \")\n",
    "n1.preorder()\n",
    "print()\n",
    "print(\"inorder traversal   : \", end=\" \")\n",
    "n1.inorder()\n",
    "print()\n",
    "print(\"postorder traversal : \", end=\" \")\n",
    "n1.postorder()"
   ]
  },
  {
   "cell_type": "code",
   "execution_count": null,
   "metadata": {},
   "outputs": [],
   "source": []
  }
 ],
 "metadata": {
  "kernelspec": {
   "display_name": "Python 3",
   "language": "python",
   "name": "python3"
  },
  "language_info": {
   "codemirror_mode": {
    "name": "ipython",
    "version": 3
   },
   "file_extension": ".py",
   "mimetype": "text/x-python",
   "name": "python",
   "nbconvert_exporter": "python",
   "pygments_lexer": "ipython3",
   "version": "3.8.5"
  }
 },
 "nbformat": 4,
 "nbformat_minor": 4
}
